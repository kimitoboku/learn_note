{
 "cells": [
  {
   "cell_type": "markdown",
   "metadata": {},
   "source": [
    "# ベイズ推論の考え方\n",
    "ベイズ主義は頻度主義と異なり，新たな事象が得られた場合，確率を更新し，事象の信頼度を返す．\n",
    "ベイズ推論では以下の式を用いて推論を行う．\n",
    "\n",
    "$$ P(A \\mid X) = \\frac{P(X \\mid A) P(A)}{P(X)} $$\n",
    "\n",
    "$P(A \\mid X)$ は $X$ という事象が起きた場合の $A$ という事象が起きる確率を表している．\n",
    "$P(X \\mid A($ は $A$ という事象がもし起きた場合に $X$ という事象が起きる確率を表している．\n",
    "\n",
    "このようにそれぞれの事象を用いることで，元々あった $P(A)$ という確率から，より信頼度の高い確率へ更新を行うことが出来る.\n"
   ]
  },
  {
   "cell_type": "markdown",
   "metadata": {},
   "source": [
    "## 1.2.2 例題: 司書か農家か？\n",
    "スティーブという内奥的な性格の少年が，将来，司書になるか農家になるかを考える．\n",
    "スティーブが司書になりそうだという結論には多くの人が納得するが，農家と司書の人数の比が20:1という事実を無視している．\n",
    "よって，統計的にはスティーブが農家になる確率の方が高いはずである．\n",
    "\n",
    "ベイズ推定を用いて，司書になる確率を考えて見る．\n",
    "スティーブについての情報が何も得られていない場合，司書になる確率は $P(A) = 1/21 = 0.047$ となり，これが事前確率となる．\n",
    "彼の近所の住人から彼の正確についての情報が得られたと考える．\n",
    "この情報を $X$ と呼ぶことにする．\n",
    "考えたい $P(A \\mid X)$ はベイズの定理を用いて以下の式で表される．\n",
    "\n",
    "$$ P(A \\mid X) = \\frac{P(X \\mid A) P(A)}{P(X)} $$\n",
    "\n",
    "すでに $P(A)$ は分かっている．\n",
    "近所の住人がスティーブが内向的と殆どの場合で答えたとすして， $P(X)$ を95%としてみよう．\n",
    "$P(X)$ は誰かがスティーブと同様に近所の人に内向的と思われている確率である．\n",
    "この値は以下のように分割して考えることが出来る．\n",
    "\n",
    "$$ P(X) = P(X \\cup A) + P( X \\cup \\bar{A}) == P(X \\mid A) P(A) + P(X \\mid \\bar{A})P(\\bar{A}) $$\n",
    "\n",
    "ここで， $\\bar{A}$ はスティーブが司書にならない，つまり，農家であるということを意味する．\n",
    "ここまで， $P(X \\mid A)$ ， $P(A)$ がわかり， $P(\\bar{A}) = 1 - P(A) = 20/21$ である．\n",
    "必要な物は， $P(X \\mid \\bar{A})$ つまり彼が農家である場合に，近所の住人がスティーブを内向的であると考える確率である．\n",
    "かりにこれを，0.5とする．\n",
    "すると， $P(X) = 0.95 \\times 1/21 + 0.5 \\times 20/21 = 0.52$ となる．\n",
    "以上の値を用いると，\n",
    "\n",
    "$$ P(A \\mid X) = \\frac{0.95 \\times 1/21}{0.52} = 0.087$$\n",
    "\n",
    "となる．\n",
    "それほど，大きい値ではないが，農家が司書の20倍なことを考えると適当な値に思える．\n",
    "\n",
    "これらの情報から，「スティーブが司書である」と「スティーブが農家である」のそれぞれの事前確率と，事後確率を比較してみる．\n",
    " "
   ]
  },
  {
   "cell_type": "code",
   "execution_count": 2,
   "metadata": {},
   "outputs": [
    {
     "data": {
      "text/plain": [
       "<matplotlib.text.Text at 0x10fa7e048>"
      ]
     },
     "execution_count": 2,
     "metadata": {},
     "output_type": "execute_result"
    },
    {
     "data": {
      "image/png": "[encoded data removed]",
      "text/plain": [
       "<matplotlib.figure.Figure at 0x10e238d68>"
      ]
     },
     "metadata": {},
     "output_type": "display_data"
    }
   ],
   "source": [
    "from IPython.core.pylabtools import figsize\n",
    "import numpy as np\n",
    "from matplotlib import pyplot as plt\n",
    "%matplotlib inline\n",
    "figsize(12.5, 4)\n",
    "\n",
    "colors = [\"#348ABD\",\"#A60628\"]\n",
    "prior = [1/21. , 20 / 21.]\n",
    "posterior = [0.087, 1-0.087]\n",
    "plt.bar([0, 0.7], prior , alpha=0.70, width=0.25,\n",
    "        color=colors[0], label=\"prior distribution\",\n",
    "        lw=\"3\", edgecolor=colors[0])\n",
    "\n",
    "plt.bar([0+0.25, 0.7+0.25], posterior , alpha=0.70, width=0.25,\n",
    "        color=colors[1], label=\"posterior distribution\",\n",
    "        lw=\"3\", edgecolor=colors[1])\n",
    "\n",
    "plt.xticks([0.20,0.95],[\"Librarian\",\"Farmer\"])\n",
    "plt.ylabel(\"Probability\")\n",
    "plt.legend(loc=\"upper left\")\n",
    "plt.title(\"Prior and posterior probabilities of Steve's occupation\")"
   ]
  },
  {
   "cell_type": "markdown",
   "metadata": {},
   "source": [
    "## 離散な確率変数\n",
    "確率変数Zが離散である場合，確率分布は確率質量関数と呼ばれる．\n",
    "これはZが値kをとる確率であり $P(Z=k)$ と表すことが出来る．\n",
    "確率質量関数は確率変数Zを完全に決定する．\n",
    "つまり，確率質量関数が分かればZがどのようにふるまうのかが分かる．"
   ]
  },
  {
   "cell_type": "markdown",
   "metadata": {},
   "source": [
    "### ポアソン分布\n",
    "有名な確率質量関数はいくつがあるが，ポアソン分布を扱う．\n",
    "Zの確率質量関数が以下の式であれば，Zはポアソン分布に従うという．\n",
    "\n",
    "$$ P(Z=k) = \\frac{\\lambda^k e^{-\\lambda}}{k!} $$\n",
    "\n",
    "ここで $\\lambda$ は分布のパラメータであり，ポアソン分布の場合は任意の正の実数である．\n",
    "この $\\lambda$ を大きくすると，大きな値の確率が大きくなり，小さくすると小さな値の確率が大きくなる．\n",
    "よって，この $\\lambda$ をポアソン分布の強度と考えても良い．\n",
    "上記の式で $k$ は任意の非負の整数でなければならない．\n",
    "例えば，人数をモデリングする場合に，小数の数などは意味をなさないためである．\n",
    "ポアソン分布は期待値が分布のパラメータ $\\lambda$ に等しいという便利な性質を持つ．\n",
    "\n",
    "以下にこのパラメータ $\\lambda$ を変えて，確率質量関数をプロットするプログラムとグラフを示す．\n",
    "パラメータ $\\lambda$ による確率への影響が分かる．"
   ]
  },
  {
   "cell_type": "code",
   "execution_count": 4,
   "metadata": {},
   "outputs": [
    {
     "data": {
      "text/plain": [
       "<matplotlib.text.Text at 0x1100de278>"
      ]
     },
     "execution_count": 4,
     "metadata": {},
     "output_type": "execute_result"
    },
    {
     "data": {
      "image/png": "[encoded data removed]",
      "text/plain": [
       "<matplotlib.figure.Figure at 0x1104d1128>"
      ]
     },
     "metadata": {},
     "output_type": "display_data"
    }
   ],
   "source": [
    "import scipy.stats as stats\n",
    "figsize(12.5, 4)\n",
    "\n",
    "poi = stats.poisson\n",
    "lambda_ = [1.5, 4.25]\n",
    "colors = [\"#348ABD\",\"#A60628\"]\n",
    "\n",
    "a = np.arange(16)\n",
    "plt.bar(a, poi.pmf(a, lambda_[0]), color=colors[0],\n",
    "        label=\"$\\lambda = %.1f$\" % lambda_[0],\n",
    "        alpha=0.60, edgecolor=colors[0],lw=\"3\")\n",
    "plt.bar(a, poi.pmf(a, lambda_[1]), color=colors[1],\n",
    "        label=\"$\\lambda = %.1f$\" % lambda_[1],\n",
    "        alpha=0.60, edgecolor=colors[1],lw=\"3\")\n",
    "\n",
    "plt.xticks(a + 0.4,a)\n",
    "plt.legend()\n",
    "plt.ylabel(\"Probability of $k$\")\n",
    "plt.xlabel(\"$k$\")\n",
    "plt.title(\"Probability mass function of a Poisson random variable, differing $\\lambda$ values\")"
   ]
  }
 ],
 "metadata": {
  "kernelspec": {
   "display_name": "Python 3",
   "language": "python",
   "name": "python3"
  },
  "language_info": {
   "codemirror_mode": {
    "name": "ipython",
    "version": 3
   },
   "file_extension": ".py",
   "mimetype": "text/x-python",
   "name": "python",
   "nbconvert_exporter": "python",
   "pygments_lexer": "ipython3",
   "version": "3.6.1"
  }
 },
 "nbformat": 4,
 "nbformat_minor": 2
}
